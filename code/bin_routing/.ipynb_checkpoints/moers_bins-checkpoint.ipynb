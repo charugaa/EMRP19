{
 "cells": [
  {
   "cell_type": "markdown",
   "metadata": {},
   "source": [
    "### moers_bins.ipynb\n",
    "\n",
    "\n",
    "\n",
    "The content of this Notebook is based on [this](https://automating-gis-processes.github.io/2017/course-info/course-info.html) course from the University of Helsinki.\n",
    "\n",
    "And the [this](https://mlrose.readthedocs.io/en/stable/source/tutorial2.html) tutorial for solving the Travelling Salesman Problem with `mlrose`."
   ]
  },
  {
   "cell_type": "code",
   "execution_count": 1,
   "metadata": {},
   "outputs": [
    {
     "name": "stderr",
     "output_type": "stream",
     "text": [
      "C:\\Users\\sarah\\Anaconda3\\envs\\geo_py_37\\lib\\site-packages\\sklearn\\externals\\six.py:31: FutureWarning: The module is deprecated in version 0.21 and will be removed in version 0.23 since we've dropped support for Python 2.7. Please rely on the official version of six (https://pypi.org/project/six/).\n",
      "  \"(https://pypi.org/project/six/).\", FutureWarning)\n"
     ]
    }
   ],
   "source": [
    "import mlrose\n",
    "import numpy as np\n",
    "import geopandas as gpd\n",
    "import pandas as pd \n",
    "import osmnx as ox\n",
    "import networkx as nx\n",
    "import matplotlib.pyplot as plt\n",
    "import psycopg2\n",
    "import geopy\n",
    "from geopandas.tools import geocode\n",
    "from itertools import chain\n",
    "from shapely.geometry import LineString, Point"
   ]
  },
  {
   "cell_type": "markdown",
   "metadata": {},
   "source": [
    "### Import street network of Moers from OpenStreetMaps \n",
    "#### network_type='bike' or 'drive' or 'walk'"
   ]
  },
  {
   "cell_type": "code",
   "execution_count": 2,
   "metadata": {},
   "outputs": [],
   "source": [
    "place_name = \"Moers, Germany\"\n",
    "graph = ox.graph_from_place(place_name, network_type='drive')\n",
    "#ox.save_load.save_graph_shapefile(graph, \"Moers\", folder=\"Data/\")"
   ]
  },
  {
   "cell_type": "code",
   "execution_count": 3,
   "metadata": {},
   "outputs": [
    {
     "data": {
      "text/plain": [
       "True"
      ]
     },
     "execution_count": 3,
     "metadata": {},
     "output_type": "execute_result"
    }
   ],
   "source": [
    "nx.is_directed(graph)"
   ]
  },
  {
   "cell_type": "code",
   "execution_count": 4,
   "metadata": {},
   "outputs": [],
   "source": [
    "#ox.save_load.save_as_osm(graph, \"Moers\", folder=\"Data/\")"
   ]
  },
  {
   "cell_type": "code",
   "execution_count": 5,
   "metadata": {},
   "outputs": [],
   "source": [
    "nodes, edges = ox.graph_to_gdfs(graph, nodes=True, edges=True)"
   ]
  },
  {
   "cell_type": "code",
   "execution_count": 6,
   "metadata": {},
   "outputs": [
    {
     "data": {
      "text/plain": [
       "'+proj=longlat +ellps=WGS84 +datum=WGS84 +no_defs'"
      ]
     },
     "execution_count": 6,
     "metadata": {},
     "output_type": "execute_result"
    }
   ],
   "source": [
    "nodes.crs"
   ]
  },
  {
   "cell_type": "markdown",
   "metadata": {},
   "source": [
    "### Geocode the starting point (ENNI Betriebshof)"
   ]
  },
  {
   "cell_type": "code",
   "execution_count": 7,
   "metadata": {},
   "outputs": [
    {
     "data": {
      "text/plain": [
       "{'init': 'epsg:4326', 'no_defs': True}"
      ]
     },
     "execution_count": 7,
     "metadata": {},
     "output_type": "execute_result"
    }
   ],
   "source": [
    "# Geocode addresses with Nominatim backend\n",
    "start = geocode(\"Am Jostenhof 7-9, 47441 Moers, Germany\", provider='nominatim')\n",
    "start.crs"
   ]
  },
  {
   "cell_type": "markdown",
   "metadata": {},
   "source": [
    "### Import shapefile (created with QGIS) of bins in Moers \n",
    "(optional; only if all bins are needed)"
   ]
  },
  {
   "cell_type": "code",
   "execution_count": 8,
   "metadata": {},
   "outputs": [],
   "source": [
    "#fp = \"Data/bins_Moers.shp\"\n",
    "#bins = gpd.read_file(fp)\n",
    "#bins.crs"
   ]
  },
  {
   "cell_type": "markdown",
   "metadata": {},
   "source": [
    "### Connect to Database"
   ]
  },
  {
   "cell_type": "code",
   "execution_count": 9,
   "metadata": {},
   "outputs": [],
   "source": [
    "# Database authentication\n",
    "psql_host='db.dev.iota.pw'\n",
    "psql_port=6000\n",
    "psql_dbname='em_wastebin'\n",
    "psql_user='arp_b'\n",
    "psql_password='iota999'"
   ]
  },
  {
   "cell_type": "code",
   "execution_count": 10,
   "metadata": {},
   "outputs": [
    {
     "name": "stdout",
     "output_type": "stream",
     "text": [
      "Connecting to the PostgreSQL database...\n",
      "Successfully connected to DB\n"
     ]
    }
   ],
   "source": [
    "# Initialize database connection\n",
    "try:        \n",
    "    # connect to the PostgreSQL server\n",
    "    print('Connecting to the PostgreSQL database...')\n",
    "    psql_conn = psycopg2.connect(host=psql_host, port=psql_port, user=psql_user, password=psql_password, database=psql_dbname)\n",
    "    print(\"Successfully connected to DB\")\n",
    "except (Exception, psycopg2.DatabaseError) as e:\n",
    "    print(\"Failed to connect to PostgreSQL database...\")"
   ]
  },
  {
   "cell_type": "markdown",
   "metadata": {},
   "source": [
    "### Fetch all bins with a fill level over 60 %"
   ]
  },
  {
   "cell_type": "code",
   "execution_count": 11,
   "metadata": {},
   "outputs": [],
   "source": [
    "cur = psql_conn.cursor()\n",
    "cur.execute(\"SELECT coordinates FROM public.last_fill_level WHERE fill_level > 60\")\n",
    "psql_conn.commit()\n",
    "res = cur.fetchall()\n",
    "psql_conn.close()"
   ]
  },
  {
   "cell_type": "markdown",
   "metadata": {},
   "source": [
    "### Transform string coordinates to floats"
   ]
  },
  {
   "cell_type": "code",
   "execution_count": 12,
   "metadata": {},
   "outputs": [],
   "source": [
    "bins = []\n",
    "for index in range(0,len(res)):\n",
    "    bins.append(tuple(float(s) for s in res[index][0].strip(\"()\").split(\",\")))"
   ]
  },
  {
   "cell_type": "code",
   "execution_count": 13,
   "metadata": {},
   "outputs": [
    {
     "data": {
      "text/plain": [
       "[(51.47073118, 6.630620006),\n",
       " (51.47452877, 6.631823815),\n",
       " (51.47036917, 6.631334983)]"
      ]
     },
     "execution_count": 13,
     "metadata": {},
     "output_type": "execute_result"
    }
   ],
   "source": [
    "bins"
   ]
  },
  {
   "cell_type": "code",
   "execution_count": 14,
   "metadata": {},
   "outputs": [
    {
     "data": {
      "text/html": [
       "<div>\n",
       "<style scoped>\n",
       "    .dataframe tbody tr th:only-of-type {\n",
       "        vertical-align: middle;\n",
       "    }\n",
       "\n",
       "    .dataframe tbody tr th {\n",
       "        vertical-align: top;\n",
       "    }\n",
       "\n",
       "    .dataframe thead th {\n",
       "        text-align: right;\n",
       "    }\n",
       "</style>\n",
       "<table border=\"1\" class=\"dataframe\">\n",
       "  <thead>\n",
       "    <tr style=\"text-align: right;\">\n",
       "      <th></th>\n",
       "      <th>latitude</th>\n",
       "      <th>longitude</th>\n",
       "    </tr>\n",
       "  </thead>\n",
       "  <tbody>\n",
       "    <tr>\n",
       "      <th>0</th>\n",
       "      <td>51.470731</td>\n",
       "      <td>6.630620</td>\n",
       "    </tr>\n",
       "    <tr>\n",
       "      <th>1</th>\n",
       "      <td>51.474529</td>\n",
       "      <td>6.631824</td>\n",
       "    </tr>\n",
       "    <tr>\n",
       "      <th>2</th>\n",
       "      <td>51.470369</td>\n",
       "      <td>6.631335</td>\n",
       "    </tr>\n",
       "  </tbody>\n",
       "</table>\n",
       "</div>"
      ],
      "text/plain": [
       "    latitude  longitude\n",
       "0  51.470731   6.630620\n",
       "1  51.474529   6.631824\n",
       "2  51.470369   6.631335"
      ]
     },
     "execution_count": 14,
     "metadata": {},
     "output_type": "execute_result"
    }
   ],
   "source": [
    "# create DataFrame using data \n",
    "df_bins = pd.DataFrame(bins, columns =['latitude', 'longitude'])\n",
    "df_bins"
   ]
  },
  {
   "cell_type": "markdown",
   "metadata": {},
   "source": [
    "### Transform DataFrame to GeoDataFrame"
   ]
  },
  {
   "cell_type": "code",
   "execution_count": 15,
   "metadata": {},
   "outputs": [
    {
     "data": {
      "text/html": [
       "<div>\n",
       "<style scoped>\n",
       "    .dataframe tbody tr th:only-of-type {\n",
       "        vertical-align: middle;\n",
       "    }\n",
       "\n",
       "    .dataframe tbody tr th {\n",
       "        vertical-align: top;\n",
       "    }\n",
       "\n",
       "    .dataframe thead th {\n",
       "        text-align: right;\n",
       "    }\n",
       "</style>\n",
       "<table border=\"1\" class=\"dataframe\">\n",
       "  <thead>\n",
       "    <tr style=\"text-align: right;\">\n",
       "      <th></th>\n",
       "      <th>latitude</th>\n",
       "      <th>longitude</th>\n",
       "      <th>geometry</th>\n",
       "    </tr>\n",
       "  </thead>\n",
       "  <tbody>\n",
       "    <tr>\n",
       "      <th>0</th>\n",
       "      <td>51.470731</td>\n",
       "      <td>6.630620</td>\n",
       "      <td>POINT (6.63062 51.47073)</td>\n",
       "    </tr>\n",
       "    <tr>\n",
       "      <th>1</th>\n",
       "      <td>51.474529</td>\n",
       "      <td>6.631824</td>\n",
       "      <td>POINT (6.63182 51.47453)</td>\n",
       "    </tr>\n",
       "    <tr>\n",
       "      <th>2</th>\n",
       "      <td>51.470369</td>\n",
       "      <td>6.631335</td>\n",
       "      <td>POINT (6.63133 51.47037)</td>\n",
       "    </tr>\n",
       "  </tbody>\n",
       "</table>\n",
       "</div>"
      ],
      "text/plain": [
       "    latitude  longitude                  geometry\n",
       "0  51.470731   6.630620  POINT (6.63062 51.47073)\n",
       "1  51.474529   6.631824  POINT (6.63182 51.47453)\n",
       "2  51.470369   6.631335  POINT (6.63133 51.47037)"
      ]
     },
     "execution_count": 15,
     "metadata": {},
     "output_type": "execute_result"
    }
   ],
   "source": [
    "# creating a geometry column \n",
    "geometry = [Point(xy) for xy in zip(df_bins['longitude'], df_bins['latitude'])]# Coordinate reference system : WGS84\n",
    "crs = {'init': 'epsg:4326'}# Creating a Geographic data frame \n",
    "gdf_bins = gpd.GeoDataFrame(df_bins, crs=crs, geometry=geometry)\n",
    "gdf_bins"
   ]
  },
  {
   "cell_type": "markdown",
   "metadata": {},
   "source": [
    "### Reproject the points to the same projection as the road network"
   ]
  },
  {
   "cell_type": "code",
   "execution_count": 16,
   "metadata": {},
   "outputs": [
    {
     "name": "stderr",
     "output_type": "stream",
     "text": [
      "C:\\Users\\sarah\\Anaconda3\\envs\\geo_py_37\\lib\\site-packages\\pyproj\\crs.py:77: FutureWarning: '+init=<authority>:<code>' syntax is deprecated. '<authority>:<code>' is the preferred initialization method.\n",
      "  return _prepare_from_string(\" \".join(pjargs))\n",
      "C:\\Users\\sarah\\Anaconda3\\envs\\geo_py_37\\lib\\site-packages\\pyproj\\crs.py:77: FutureWarning: '+init=<authority>:<code>' syntax is deprecated. '<authority>:<code>' is the preferred initialization method.\n",
      "  return _prepare_from_string(\" \".join(pjargs))\n"
     ]
    },
    {
     "data": {
      "text/plain": [
       "'+proj=longlat +ellps=WGS84 +datum=WGS84 +no_defs'"
      ]
     },
     "execution_count": 16,
     "metadata": {},
     "output_type": "execute_result"
    }
   ],
   "source": [
    "proj_text = str.format(edges.crs)\n",
    "\n",
    "# Reproject the geometries by replacing the values with projected ones\n",
    "gdf_bins = gdf_bins.to_crs(proj_text)\n",
    "#end_point = points_proj.iloc[np.argmin(distances)]\n",
    "#data_bin_proj.crs = CRS(\"EPSG:32632\")\n",
    "start = start.to_crs(proj_text)\n",
    "proj_text"
   ]
  },
  {
   "cell_type": "markdown",
   "metadata": {},
   "source": [
    "### Reformat start point"
   ]
  },
  {
   "cell_type": "code",
   "execution_count": 17,
   "metadata": {},
   "outputs": [
    {
     "data": {
      "text/plain": [
       "(51.4525429, 6.607198265428346)"
      ]
     },
     "execution_count": 17,
     "metadata": {},
     "output_type": "execute_result"
    }
   ],
   "source": [
    "start_point = start.geometry\n",
    "start_xy = (start_point.y.item(), start_point.x.item())\n",
    "start_xy"
   ]
  },
  {
   "cell_type": "markdown",
   "metadata": {},
   "source": [
    "### Save geometry of full bins as points"
   ]
  },
  {
   "cell_type": "code",
   "execution_count": 18,
   "metadata": {},
   "outputs": [],
   "source": [
    "sample_points = gdf_bins.geometry"
   ]
  },
  {
   "cell_type": "code",
   "execution_count": 19,
   "metadata": {},
   "outputs": [
    {
     "data": {
      "text/plain": [
       "0    POINT (6.63062 51.47073)\n",
       "1    POINT (6.63182 51.47453)\n",
       "2    POINT (6.63133 51.47037)\n",
       "Name: geometry, dtype: geometry"
      ]
     },
     "execution_count": 19,
     "metadata": {},
     "output_type": "execute_result"
    }
   ],
   "source": [
    "sample_points"
   ]
  },
  {
   "cell_type": "code",
   "execution_count": 20,
   "metadata": {},
   "outputs": [],
   "source": [
    "sample_xy = []"
   ]
  },
  {
   "cell_type": "markdown",
   "metadata": {},
   "source": [
    "### Add start point to bin samples"
   ]
  },
  {
   "cell_type": "code",
   "execution_count": 21,
   "metadata": {},
   "outputs": [],
   "source": [
    "sample_xy.append(start_xy)"
   ]
  },
  {
   "cell_type": "code",
   "execution_count": 22,
   "metadata": {},
   "outputs": [
    {
     "data": {
      "text/plain": [
       "[(51.4525429, 6.607198265428346)]"
      ]
     },
     "execution_count": 22,
     "metadata": {},
     "output_type": "execute_result"
    }
   ],
   "source": [
    "sample_xy"
   ]
  },
  {
   "cell_type": "markdown",
   "metadata": {},
   "source": [
    "### Reformat points of \"full\" bins"
   ]
  },
  {
   "cell_type": "code",
   "execution_count": 23,
   "metadata": {},
   "outputs": [],
   "source": [
    "for index in range(0,sample_points.count()):\n",
    "    sample_xy.append((sample_points.iloc[index].y, sample_points.iloc[index].x))"
   ]
  },
  {
   "cell_type": "code",
   "execution_count": 24,
   "metadata": {},
   "outputs": [],
   "source": [
    "#sample_xy.append(start_xy)"
   ]
  },
  {
   "cell_type": "code",
   "execution_count": 25,
   "metadata": {},
   "outputs": [
    {
     "data": {
      "text/plain": [
       "[(51.4525429, 6.607198265428346),\n",
       " (51.47073118, 6.630620006),\n",
       " (51.47452877, 6.631823815),\n",
       " (51.47036917, 6.631334983)]"
      ]
     },
     "execution_count": 25,
     "metadata": {},
     "output_type": "execute_result"
    }
   ],
   "source": [
    "sample_xy"
   ]
  },
  {
   "cell_type": "markdown",
   "metadata": {},
   "source": [
    "#### Initialize fitness function object by using a list of coordinates (sample_x_y)"
   ]
  },
  {
   "cell_type": "code",
   "execution_count": 26,
   "metadata": {},
   "outputs": [],
   "source": [
    "fitness_coords = mlrose.TravellingSales(coords = sample_xy)"
   ]
  },
  {
   "cell_type": "markdown",
   "metadata": {},
   "source": [
    "#### Define optimization problem object"
   ]
  },
  {
   "cell_type": "code",
   "execution_count": 27,
   "metadata": {},
   "outputs": [],
   "source": [
    "problem_fit = mlrose.TSPOpt(length = len(sample_xy), fitness_fn = fitness_coords, maximize=False)"
   ]
  },
  {
   "cell_type": "code",
   "execution_count": 28,
   "metadata": {},
   "outputs": [
    {
     "name": "stdout",
     "output_type": "stream",
     "text": [
      "[2 0 1 3]\n",
      "0.06765622214175113\n"
     ]
    }
   ],
   "source": [
    "# Solve problem using the genetic algorithm\n",
    "best_state, best_fitness, fitness_curve = mlrose.genetic_alg(problem_fit, mutation_prob = 0.2, max_attempts = 50, random_state = 2, curve = True)\n",
    "\n",
    "print(best_state)\n",
    "print(best_fitness)"
   ]
  },
  {
   "cell_type": "code",
   "execution_count": 29,
   "metadata": {},
   "outputs": [],
   "source": [
    "#print(fitness_curve)"
   ]
  },
  {
   "cell_type": "markdown",
   "metadata": {},
   "source": [
    "### Calculate the network nodes that are closest to start and end point"
   ]
  },
  {
   "cell_type": "code",
   "execution_count": 30,
   "metadata": {},
   "outputs": [],
   "source": [
    "route = []"
   ]
  },
  {
   "cell_type": "code",
   "execution_count": 31,
   "metadata": {},
   "outputs": [
    {
     "data": {
      "text/plain": [
       "4"
      ]
     },
     "execution_count": 31,
     "metadata": {},
     "output_type": "execute_result"
    }
   ],
   "source": [
    "len(sample_xy)"
   ]
  },
  {
   "cell_type": "code",
   "execution_count": 32,
   "metadata": {},
   "outputs": [],
   "source": [
    "#route = nx.shortest_path(G=graph, source=orig_node, target=target_node, weight='length')"
   ]
  },
  {
   "cell_type": "code",
   "execution_count": 33,
   "metadata": {},
   "outputs": [],
   "source": [
    "#fig, ax = ox.plot_graph_route(graph, route, origin_point=orig_xy, destination_point=target_xy, show=False, close=False)\n",
    "\n",
    "#sample_bin.plot(ax=ax, color='red', markersize=5)\n",
    "\n",
    "#plt.tight_layout()"
   ]
  },
  {
   "cell_type": "code",
   "execution_count": 34,
   "metadata": {},
   "outputs": [
    {
     "name": "stdout",
     "output_type": "stream",
     "text": [
      "[]\n",
      "[[2926579427, 2926579421, 1299698293, 7136746905, 26111421, 26881236, 26881229, 1299528863, 1299528864, 26885958, 26881400, 26881401, 26881402, 26881403, 26881404, 26881444]]\n",
      "[[2926579427, 2926579421, 1299698293, 7136746905, 26111421, 26881236, 26881229, 1299528863, 1299528864, 26885958, 26881400, 26881401, 26881402, 26881403, 26881404, 26881444], [26881444, 26881404, 26881403, 26881400, 26885958, 1299528864, 26881392, 1299528863, 26881229, 26881236, 26111421, 7136746905, 1299698293, 1299698297]]\n",
      "!!!\n",
      "[[2926579427, 2926579421, 1299698293, 7136746905, 26111421, 26881236, 26881229, 1299528863, 1299528864, 26885958, 26881400, 26881401, 26881402, 26881403, 26881404, 26881444], [26881444, 26881404, 26881403, 26881400, 26885958, 1299528864, 26881392, 1299528863, 26881229, 26881236, 26111421, 7136746905, 1299698293, 1299698297], [1299698297, 26111421]]\n"
     ]
    }
   ],
   "source": [
    "for index in range(0,len(sample_xy)):\n",
    "    \n",
    "    if index == len(sample_xy)-1:\n",
    "        orig_xy = sample_xy[best_state[-1]]\n",
    "        target_xy = sample_xy[best_state[0]]\n",
    "        print(\"!!!\")\n",
    "        \n",
    "    else:\n",
    "        orig_xy = sample_xy[best_state[index]]\n",
    "        target_xy = sample_xy[best_state[index+1]]\n",
    "    \n",
    "    orig_node = ox.get_nearest_node(graph, orig_xy, method='euclidean')\n",
    "    target_node = ox.get_nearest_node(graph, target_xy, method='euclidean')\n",
    "    \n",
    "    #print(orig_node)\n",
    "    #print(target_node)\n",
    "    \n",
    "    route_temp = nx.shortest_path(G=graph, source=orig_node, target=target_node, weight='length')\n",
    "    print(route)\n",
    "    route.append(route_temp)\n",
    "    route_temp = []"
   ]
  },
  {
   "cell_type": "code",
   "execution_count": 35,
   "metadata": {},
   "outputs": [
    {
     "data": {
      "image/png": "[encoded data removed]",
      "text/plain": [
       "<Figure size 351.343x432 with 1 Axes>"
      ]
     },
     "metadata": {},
     "output_type": "display_data"
    }
   ],
   "source": [
    "fig, ax = ox.plot_graph_routes(graph, route, save=True, show=False, close=False)\n",
    "\n",
    "gdf_bins.plot(ax=ax, color='blue', markersize=100)\n",
    "\n",
    "plt.tight_layout()"
   ]
  },
  {
   "cell_type": "markdown",
   "metadata": {},
   "source": [
    "### Combine the nodes of the route with information from the network"
   ]
  },
  {
   "cell_type": "code",
   "execution_count": 36,
   "metadata": {},
   "outputs": [],
   "source": [
    "route_nodes = nodes.loc[list(chain(*route))]"
   ]
  },
  {
   "cell_type": "code",
   "execution_count": 37,
   "metadata": {},
   "outputs": [
    {
     "name": "stdout",
     "output_type": "stream",
     "text": [
      "                    y         x       osmid          highway  ref  \\\n",
      "2926579427  51.475210  6.632008  2926579427  traffic_signals  NaN   \n",
      "2926579421  51.473636  6.631847  2926579421              NaN  NaN   \n",
      "1299698293  51.470745  6.631513  1299698293              NaN  NaN   \n",
      "7136746905  51.470691  6.631506  7136746905              NaN  NaN   \n",
      "26111421    51.470620  6.631498    26111421              NaN  NaN   \n",
      "26881236    51.468459  6.631259    26881236              NaN  NaN   \n",
      "26881229    51.466025  6.631028    26881229              NaN  NaN   \n",
      "1299528863  51.463434  6.630789  1299528863  traffic_signals  NaN   \n",
      "1299528864  51.463321  6.629739  1299528864              NaN  NaN   \n",
      "26885958    51.460531  6.619084    26885958              NaN  NaN   \n",
      "26881400    51.456771  6.606633    26881400              NaN  NaN   \n",
      "26881401    51.456938  6.606292    26881401              NaN  NaN   \n",
      "26881402    51.456724  6.606038    26881402              NaN  NaN   \n",
      "26881403    51.456567  6.606376    26881403              NaN  NaN   \n",
      "26881404    51.455578  6.606967    26881404              NaN  NaN   \n",
      "26881444    51.452232  6.608881    26881444              NaN  NaN   \n",
      "26881444    51.452232  6.608881    26881444              NaN  NaN   \n",
      "26881404    51.455578  6.606967    26881404              NaN  NaN   \n",
      "26881403    51.456567  6.606376    26881403              NaN  NaN   \n",
      "26881400    51.456771  6.606633    26881400              NaN  NaN   \n",
      "26885958    51.460531  6.619084    26885958              NaN  NaN   \n",
      "1299528864  51.463321  6.629739  1299528864              NaN  NaN   \n",
      "26881392    51.463308  6.630777    26881392  traffic_signals  NaN   \n",
      "1299528863  51.463434  6.630789  1299528863  traffic_signals  NaN   \n",
      "26881229    51.466025  6.631028    26881229              NaN  NaN   \n",
      "26881236    51.468459  6.631259    26881236              NaN  NaN   \n",
      "26111421    51.470620  6.631498    26111421              NaN  NaN   \n",
      "7136746905  51.470691  6.631506  7136746905              NaN  NaN   \n",
      "1299698293  51.470745  6.631513  1299698293              NaN  NaN   \n",
      "1299698297  51.470690  6.630746  1299698297              NaN  NaN   \n",
      "1299698297  51.470690  6.630746  1299698297              NaN  NaN   \n",
      "26111421    51.470620  6.631498    26111421              NaN  NaN   \n",
      "26111421    51.470620  6.631498    26111421              NaN  NaN   \n",
      "7136746905  51.470691  6.631506  7136746905              NaN  NaN   \n",
      "1299698293  51.470745  6.631513  1299698293              NaN  NaN   \n",
      "2926579421  51.473636  6.631847  2926579421              NaN  NaN   \n",
      "2926579427  51.475210  6.632008  2926579427  traffic_signals  NaN   \n",
      "\n",
      "                            geometry  \n",
      "2926579427  POINT (6.63201 51.47521)  \n",
      "2926579421  POINT (6.63185 51.47364)  \n",
      "1299698293  POINT (6.63151 51.47075)  \n",
      "7136746905  POINT (6.63151 51.47069)  \n",
      "26111421    POINT (6.63150 51.47062)  \n",
      "26881236    POINT (6.63126 51.46846)  \n",
      "26881229    POINT (6.63103 51.46602)  \n",
      "1299528863  POINT (6.63079 51.46343)  \n",
      "1299528864  POINT (6.62974 51.46332)  \n",
      "26885958    POINT (6.61908 51.46053)  \n",
      "26881400    POINT (6.60663 51.45677)  \n",
      "26881401    POINT (6.60629 51.45694)  \n",
      "26881402    POINT (6.60604 51.45672)  \n",
      "26881403    POINT (6.60638 51.45657)  \n",
      "26881404    POINT (6.60697 51.45558)  \n",
      "26881444    POINT (6.60888 51.45223)  \n",
      "26881444    POINT (6.60888 51.45223)  \n",
      "26881404    POINT (6.60697 51.45558)  \n",
      "26881403    POINT (6.60638 51.45657)  \n",
      "26881400    POINT (6.60663 51.45677)  \n",
      "26885958    POINT (6.61908 51.46053)  \n",
      "1299528864  POINT (6.62974 51.46332)  \n",
      "26881392    POINT (6.63078 51.46331)  \n",
      "1299528863  POINT (6.63079 51.46343)  \n",
      "26881229    POINT (6.63103 51.46602)  \n",
      "26881236    POINT (6.63126 51.46846)  \n",
      "26111421    POINT (6.63150 51.47062)  \n",
      "7136746905  POINT (6.63151 51.47069)  \n",
      "1299698293  POINT (6.63151 51.47075)  \n",
      "1299698297  POINT (6.63075 51.47069)  \n",
      "1299698297  POINT (6.63075 51.47069)  \n",
      "26111421    POINT (6.63150 51.47062)  \n",
      "26111421    POINT (6.63150 51.47062)  \n",
      "7136746905  POINT (6.63151 51.47069)  \n",
      "1299698293  POINT (6.63151 51.47075)  \n",
      "2926579421  POINT (6.63185 51.47364)  \n",
      "2926579427  POINT (6.63201 51.47521)  \n"
     ]
    }
   ],
   "source": [
    "print(route_nodes)"
   ]
  },
  {
   "cell_type": "markdown",
   "metadata": {},
   "source": [
    "### Convert route into a linestring"
   ]
  },
  {
   "cell_type": "code",
   "execution_count": 38,
   "metadata": {},
   "outputs": [
    {
     "name": "stdout",
     "output_type": "stream",
     "text": [
      "LINESTRING (6.6320083 51.4752096, 6.6318471 51.4736359, 6.6315127 51.4707452, 6.6315064 51.4706912, 6.6314981 51.4706197, 6.6312592 51.4684593, 6.6310279 51.4660249, 6.6307887 51.4634343, 6.6297391 51.4633215, 6.6190836 51.4605313, 6.6066334 51.4567713, 6.6062918 51.4569378, 6.6060383 51.4567237, 6.6063764 51.4565675, 6.606967 51.4555782, 6.6088813 51.4522316, 6.6088813 51.4522316, 6.606967 51.4555782, 6.6063764 51.4565675, 6.6066334 51.4567713, 6.6190836 51.4605313, 6.6297391 51.4633215, 6.630777 51.4633077, 6.6307887 51.4634343, 6.6310279 51.4660249, 6.6312592 51.4684593, 6.6314981 51.4706197, 6.6315064 51.4706912, 6.6315127 51.4707452, 6.6307462 51.47069, 6.6307462 51.47069, 6.6314981 51.4706197, 6.6314981 51.4706197, 6.6315064 51.4706912, 6.6315127 51.4707452, 6.6318471 51.4736359, 6.6320083 51.4752096)\n"
     ]
    }
   ],
   "source": [
    "route_line = LineString(list(route_nodes.geometry.values))\n",
    "print(route_line)"
   ]
  },
  {
   "cell_type": "markdown",
   "metadata": {},
   "source": [
    "### Create a GeoDataFrame from the linestring"
   ]
  },
  {
   "cell_type": "code",
   "execution_count": 39,
   "metadata": {},
   "outputs": [],
   "source": [
    "route_geom = gpd.GeoDataFrame(crs=edges.crs)\n",
    "\n",
    "route_geom['geometry'] = None\n",
    "route_geom['osmids'] = None"
   ]
  },
  {
   "cell_type": "code",
   "execution_count": 40,
   "metadata": {},
   "outputs": [],
   "source": [
    "route_geom.loc[0, 'geometry'] = route_line\n",
    "\n",
    "route_geom.loc[0, 'osmids'] = str(list(route_nodes['osmid'].values))"
   ]
  },
  {
   "cell_type": "markdown",
   "metadata": {},
   "source": [
    "### Plot the route as dashed line onto the nodes and edges of the network"
   ]
  },
  {
   "cell_type": "code",
   "execution_count": 41,
   "metadata": {},
   "outputs": [
    {
     "data": {
      "image/png": "[encoded data removed]",
      "text/plain": [
       "<Figure size 432x288 with 1 Axes>"
      ]
     },
     "metadata": {
      "needs_background": "light"
     },
     "output_type": "display_data"
    }
   ],
   "source": [
    "fig, ax = plt.subplots()\n",
    "edges.plot(ax=ax, linewidth=0.75, color='gray')\n",
    "nodes.plot(ax=ax, markersize=2, color='gray')\n",
    "route_geom.plot(ax=ax, linewidth=4, linestyle='--', color='red')\n",
    "plt.tight_layout()"
   ]
  },
  {
   "cell_type": "markdown",
   "metadata": {},
   "source": [
    "### Prepare the saving of shapefiles"
   ]
  },
  {
   "cell_type": "code",
   "execution_count": 42,
   "metadata": {},
   "outputs": [],
   "source": [
    "place_name_out = place_name.replace(' ', '_').replace(',','')\n",
    "#streets_out = r\"Data/%s_streets.shp\" % place_name_out\n",
    "route_out = r\"Data/Route_%s.shp\" % place_name_out"
   ]
  },
  {
   "cell_type": "code",
   "execution_count": 43,
   "metadata": {},
   "outputs": [],
   "source": [
    "#edges.to_file(streets_out)"
   ]
  },
  {
   "cell_type": "code",
   "execution_count": 44,
   "metadata": {},
   "outputs": [],
   "source": [
    "route_geom.to_file(route_out)"
   ]
  },
  {
   "cell_type": "code",
   "execution_count": 45,
   "metadata": {},
   "outputs": [
    {
     "data": {
      "text/plain": [
       "[[2926579427,\n",
       "  2926579421,\n",
       "  1299698293,\n",
       "  7136746905,\n",
       "  26111421,\n",
       "  26881236,\n",
       "  26881229,\n",
       "  1299528863,\n",
       "  1299528864,\n",
       "  26885958,\n",
       "  26881400,\n",
       "  26881401,\n",
       "  26881402,\n",
       "  26881403,\n",
       "  26881404,\n",
       "  26881444],\n",
       " [26881444,\n",
       "  26881404,\n",
       "  26881403,\n",
       "  26881400,\n",
       "  26885958,\n",
       "  1299528864,\n",
       "  26881392,\n",
       "  1299528863,\n",
       "  26881229,\n",
       "  26881236,\n",
       "  26111421,\n",
       "  7136746905,\n",
       "  1299698293,\n",
       "  1299698297],\n",
       " [1299698297, 26111421],\n",
       " [26111421, 7136746905, 1299698293, 2926579421, 2926579427]]"
      ]
     },
     "execution_count": 45,
     "metadata": {},
     "output_type": "execute_result"
    }
   ],
   "source": [
    "route"
   ]
  },
  {
   "cell_type": "code",
   "execution_count": null,
   "metadata": {},
   "outputs": [],
   "source": []
  },
  {
   "cell_type": "code",
   "execution_count": null,
   "metadata": {},
   "outputs": [],
   "source": []
  }
 ],
 "metadata": {
  "kernelspec": {
   "display_name": "Python 3.7.6 64-bit ('geo_py_37': conda)",
   "language": "python",
   "name": "python37664bitgeopy37condafba4ddeb91894b319d956f4e75038a87"
  },
  "language_info": {
   "codemirror_mode": {
    "name": "ipython",
    "version": 3
   },
   "file_extension": ".py",
   "mimetype": "text/x-python",
   "name": "python",
   "nbconvert_exporter": "python",
   "pygments_lexer": "ipython3",
   "version": "3.7.6"
  }
 },
 "nbformat": 4,
 "nbformat_minor": 4
}
